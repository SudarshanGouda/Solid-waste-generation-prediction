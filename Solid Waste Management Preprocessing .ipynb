{
 "cells": [
  {
   "cell_type": "markdown",
   "id": "c41b9891",
   "metadata": {},
   "source": [
    "# Solid Waste Management"
   ]
  },
  {
   "cell_type": "code",
   "execution_count": 1,
   "id": "ad8884b3",
   "metadata": {},
   "outputs": [],
   "source": [
    "import numpy as np\n",
    "import pandas as pd\n",
    "import matplotlib.pyplot as plt\n",
    "import seaborn as sns\n",
    "import warnings\n",
    "warnings.filterwarnings('ignore')"
   ]
  },
  {
   "cell_type": "code",
   "execution_count": 2,
   "id": "e2477c10",
   "metadata": {},
   "outputs": [],
   "source": [
    "df_raw= pd.read_csv('Municipal Solid Waste Management.csv')"
   ]
  },
  {
   "cell_type": "code",
   "execution_count": 3,
   "id": "8059d248",
   "metadata": {},
   "outputs": [],
   "source": [
    "df_backup=df_raw.copy()"
   ]
  },
  {
   "cell_type": "code",
   "execution_count": 4,
   "id": "3dd5464a",
   "metadata": {},
   "outputs": [],
   "source": [
    "df=df_raw.copy()"
   ]
  },
  {
   "cell_type": "code",
   "execution_count": 5,
   "id": "4376102e",
   "metadata": {},
   "outputs": [
    {
     "data": {
      "text/html": [
       "<div>\n",
       "<style scoped>\n",
       "    .dataframe tbody tr th:only-of-type {\n",
       "        vertical-align: middle;\n",
       "    }\n",
       "\n",
       "    .dataframe tbody tr th {\n",
       "        vertical-align: top;\n",
       "    }\n",
       "\n",
       "    .dataframe thead th {\n",
       "        text-align: right;\n",
       "    }\n",
       "</style>\n",
       "<table border=\"1\" class=\"dataframe\">\n",
       "  <thead>\n",
       "    <tr style=\"text-align: right;\">\n",
       "      <th></th>\n",
       "      <th>Timestamp</th>\n",
       "      <th>Username</th>\n",
       "      <th>Locality</th>\n",
       "      <th>Highest Qualification</th>\n",
       "      <th>Occupation</th>\n",
       "      <th>Type of Residence</th>\n",
       "      <th>Number of people</th>\n",
       "      <th>Annual Income</th>\n",
       "      <th>Approximate Weight of waste  generated per Day</th>\n",
       "      <th>Type of Solid waste( Select as many as possible)</th>\n",
       "      <th>Frequency of Disposal</th>\n",
       "      <th>Mode of Disposal</th>\n",
       "      <th>Number of Bins in the Vicinity</th>\n",
       "    </tr>\n",
       "  </thead>\n",
       "  <tbody>\n",
       "    <tr>\n",
       "      <th>0</th>\n",
       "      <td>2022/08/17 1:45:52 PM GMT+5:30</td>\n",
       "      <td>lohithvegesna@gmail.com</td>\n",
       "      <td>Miyapur</td>\n",
       "      <td>Btech</td>\n",
       "      <td>Student</td>\n",
       "      <td>Apartment</td>\n",
       "      <td>2-3 Members</td>\n",
       "      <td>Less than 5 lakh per annum</td>\n",
       "      <td>1-2 Kg</td>\n",
       "      <td>Kitchen waste</td>\n",
       "      <td>Daily</td>\n",
       "      <td>Door to door collection</td>\n",
       "      <td>1</td>\n",
       "    </tr>\n",
       "    <tr>\n",
       "      <th>1</th>\n",
       "      <td>2022/08/17 1:53:09 PM GMT+5:30</td>\n",
       "      <td>19211a0556@bvrit.ac.in</td>\n",
       "      <td>Miyapur</td>\n",
       "      <td>BTech</td>\n",
       "      <td>Student</td>\n",
       "      <td>Apartment</td>\n",
       "      <td>4-5 Members</td>\n",
       "      <td>5-7 lakh per annum</td>\n",
       "      <td>Less than 1 kg</td>\n",
       "      <td>Kitchen waste</td>\n",
       "      <td>Daily</td>\n",
       "      <td>Mobile Collection Vehicle</td>\n",
       "      <td>1</td>\n",
       "    </tr>\n",
       "    <tr>\n",
       "      <th>2</th>\n",
       "      <td>2022/08/17 1:56:11 PM GMT+5:30</td>\n",
       "      <td>19211a05e0@bvrit.ac.in</td>\n",
       "      <td>Miyapur</td>\n",
       "      <td>Intermediate</td>\n",
       "      <td>Student</td>\n",
       "      <td>Apartment</td>\n",
       "      <td>4-5 Members</td>\n",
       "      <td>NaN</td>\n",
       "      <td>Less than 1 kg</td>\n",
       "      <td>Kitchen waste</td>\n",
       "      <td>Daily</td>\n",
       "      <td>Nearby dump yard</td>\n",
       "      <td>2</td>\n",
       "    </tr>\n",
       "    <tr>\n",
       "      <th>3</th>\n",
       "      <td>2022/08/17 2:01:55 PM GMT+5:30</td>\n",
       "      <td>srikarsamudrala2001@gmail.com</td>\n",
       "      <td>Miyapur</td>\n",
       "      <td>B.Tech</td>\n",
       "      <td>Student</td>\n",
       "      <td>Gated Community</td>\n",
       "      <td>4-5 Members</td>\n",
       "      <td>More than 10 lakh per annum</td>\n",
       "      <td>1-2 Kg</td>\n",
       "      <td>Kitchen waste</td>\n",
       "      <td>Alternate day</td>\n",
       "      <td>Mobile Collection Vehicle</td>\n",
       "      <td>More than 2</td>\n",
       "    </tr>\n",
       "    <tr>\n",
       "      <th>4</th>\n",
       "      <td>2022/08/17 2:02:55 PM GMT+5:30</td>\n",
       "      <td>nravisankar4455@gmail.com</td>\n",
       "      <td>Miyapur</td>\n",
       "      <td>BTECH</td>\n",
       "      <td>Student</td>\n",
       "      <td>Apartment</td>\n",
       "      <td>2-3 Members</td>\n",
       "      <td>More than 10 lakh per annum</td>\n",
       "      <td>Less than 1 kg</td>\n",
       "      <td>Kitchen waste</td>\n",
       "      <td>Daily</td>\n",
       "      <td>Door to door collection</td>\n",
       "      <td>1</td>\n",
       "    </tr>\n",
       "  </tbody>\n",
       "</table>\n",
       "</div>"
      ],
      "text/plain": [
       "                        Timestamp                       Username  Locality  \\\n",
       "0  2022/08/17 1:45:52 PM GMT+5:30        lohithvegesna@gmail.com  Miyapur    \n",
       "1  2022/08/17 1:53:09 PM GMT+5:30         19211a0556@bvrit.ac.in  Miyapur    \n",
       "2  2022/08/17 1:56:11 PM GMT+5:30         19211a05e0@bvrit.ac.in  Miyapur    \n",
       "3  2022/08/17 2:01:55 PM GMT+5:30  srikarsamudrala2001@gmail.com  Miyapur    \n",
       "4  2022/08/17 2:02:55 PM GMT+5:30      nravisankar4455@gmail.com  Miyapur    \n",
       "\n",
       "  Highest Qualification Occupation Type of Residence Number of people  \\\n",
       "0                Btech     Student         Apartment      2-3 Members   \n",
       "1                BTech     Student         Apartment      4-5 Members   \n",
       "2          Intermediate    Student         Apartment      4-5 Members   \n",
       "3                B.Tech    Student   Gated Community      4-5 Members   \n",
       "4                 BTECH    Student         Apartment      2-3 Members   \n",
       "\n",
       "                 Annual Income Approximate Weight of waste  generated per Day  \\\n",
       "0   Less than 5 lakh per annum                                         1-2 Kg   \n",
       "1           5-7 lakh per annum                                 Less than 1 kg   \n",
       "2                          NaN                                 Less than 1 kg   \n",
       "3  More than 10 lakh per annum                                         1-2 Kg   \n",
       "4  More than 10 lakh per annum                                 Less than 1 kg   \n",
       "\n",
       "  Type of Solid waste( Select as many as possible) Frequency of Disposal  \\\n",
       "0                                    Kitchen waste                 Daily   \n",
       "1                                    Kitchen waste                 Daily   \n",
       "2                                    Kitchen waste                 Daily   \n",
       "3                                    Kitchen waste         Alternate day   \n",
       "4                                    Kitchen waste                 Daily   \n",
       "\n",
       "            Mode of Disposal Number of Bins in the Vicinity  \n",
       "0    Door to door collection                              1  \n",
       "1  Mobile Collection Vehicle                              1  \n",
       "2           Nearby dump yard                              2  \n",
       "3  Mobile Collection Vehicle                    More than 2  \n",
       "4    Door to door collection                              1  "
      ]
     },
     "execution_count": 5,
     "metadata": {},
     "output_type": "execute_result"
    }
   ],
   "source": [
    "df.head()"
   ]
  },
  {
   "cell_type": "code",
   "execution_count": 6,
   "id": "0dcd87a9",
   "metadata": {},
   "outputs": [
    {
     "name": "stdout",
     "output_type": "stream",
     "text": [
      "<class 'pandas.core.frame.DataFrame'>\n",
      "RangeIndex: 360 entries, 0 to 359\n",
      "Data columns (total 13 columns):\n",
      " #   Column                                            Non-Null Count  Dtype \n",
      "---  ------                                            --------------  ----- \n",
      " 0   Timestamp                                         360 non-null    object\n",
      " 1   Username                                          360 non-null    object\n",
      " 2   Locality                                          360 non-null    object\n",
      " 3   Highest Qualification                             360 non-null    object\n",
      " 4   Occupation                                        360 non-null    object\n",
      " 5   Type of Residence                                 360 non-null    object\n",
      " 6   Number of people                                  360 non-null    object\n",
      " 7   Annual Income                                     349 non-null    object\n",
      " 8   Approximate Weight of waste  generated per Day    360 non-null    object\n",
      " 9   Type of Solid waste( Select as many as possible)  360 non-null    object\n",
      " 10  Frequency of Disposal                             360 non-null    object\n",
      " 11  Mode of Disposal                                  360 non-null    object\n",
      " 12  Number of Bins in the Vicinity                    360 non-null    object\n",
      "dtypes: object(13)\n",
      "memory usage: 36.7+ KB\n"
     ]
    }
   ],
   "source": [
    "df.info()"
   ]
  },
  {
   "cell_type": "code",
   "execution_count": 7,
   "id": "689902b6",
   "metadata": {},
   "outputs": [],
   "source": [
    "df=df.drop(['Timestamp','Username','Highest Qualification','Occupation','Locality'],axis=1)"
   ]
  },
  {
   "cell_type": "code",
   "execution_count": 8,
   "id": "b44201b4",
   "metadata": {
    "scrolled": true
   },
   "outputs": [
    {
     "data": {
      "text/html": [
       "<div>\n",
       "<style scoped>\n",
       "    .dataframe tbody tr th:only-of-type {\n",
       "        vertical-align: middle;\n",
       "    }\n",
       "\n",
       "    .dataframe tbody tr th {\n",
       "        vertical-align: top;\n",
       "    }\n",
       "\n",
       "    .dataframe thead th {\n",
       "        text-align: right;\n",
       "    }\n",
       "</style>\n",
       "<table border=\"1\" class=\"dataframe\">\n",
       "  <thead>\n",
       "    <tr style=\"text-align: right;\">\n",
       "      <th></th>\n",
       "      <th>Type of Residence</th>\n",
       "      <th>Number of people</th>\n",
       "      <th>Annual Income</th>\n",
       "      <th>Approximate Weight of waste  generated per Day</th>\n",
       "      <th>Type of Solid waste( Select as many as possible)</th>\n",
       "      <th>Frequency of Disposal</th>\n",
       "      <th>Mode of Disposal</th>\n",
       "      <th>Number of Bins in the Vicinity</th>\n",
       "    </tr>\n",
       "  </thead>\n",
       "  <tbody>\n",
       "    <tr>\n",
       "      <th>0</th>\n",
       "      <td>Apartment</td>\n",
       "      <td>2-3 Members</td>\n",
       "      <td>Less than 5 lakh per annum</td>\n",
       "      <td>1-2 Kg</td>\n",
       "      <td>Kitchen waste</td>\n",
       "      <td>Daily</td>\n",
       "      <td>Door to door collection</td>\n",
       "      <td>1</td>\n",
       "    </tr>\n",
       "    <tr>\n",
       "      <th>1</th>\n",
       "      <td>Apartment</td>\n",
       "      <td>4-5 Members</td>\n",
       "      <td>5-7 lakh per annum</td>\n",
       "      <td>Less than 1 kg</td>\n",
       "      <td>Kitchen waste</td>\n",
       "      <td>Daily</td>\n",
       "      <td>Mobile Collection Vehicle</td>\n",
       "      <td>1</td>\n",
       "    </tr>\n",
       "    <tr>\n",
       "      <th>2</th>\n",
       "      <td>Apartment</td>\n",
       "      <td>4-5 Members</td>\n",
       "      <td>NaN</td>\n",
       "      <td>Less than 1 kg</td>\n",
       "      <td>Kitchen waste</td>\n",
       "      <td>Daily</td>\n",
       "      <td>Nearby dump yard</td>\n",
       "      <td>2</td>\n",
       "    </tr>\n",
       "    <tr>\n",
       "      <th>3</th>\n",
       "      <td>Gated Community</td>\n",
       "      <td>4-5 Members</td>\n",
       "      <td>More than 10 lakh per annum</td>\n",
       "      <td>1-2 Kg</td>\n",
       "      <td>Kitchen waste</td>\n",
       "      <td>Alternate day</td>\n",
       "      <td>Mobile Collection Vehicle</td>\n",
       "      <td>More than 2</td>\n",
       "    </tr>\n",
       "    <tr>\n",
       "      <th>4</th>\n",
       "      <td>Apartment</td>\n",
       "      <td>2-3 Members</td>\n",
       "      <td>More than 10 lakh per annum</td>\n",
       "      <td>Less than 1 kg</td>\n",
       "      <td>Kitchen waste</td>\n",
       "      <td>Daily</td>\n",
       "      <td>Door to door collection</td>\n",
       "      <td>1</td>\n",
       "    </tr>\n",
       "  </tbody>\n",
       "</table>\n",
       "</div>"
      ],
      "text/plain": [
       "  Type of Residence Number of people                Annual Income  \\\n",
       "0         Apartment      2-3 Members   Less than 5 lakh per annum   \n",
       "1         Apartment      4-5 Members           5-7 lakh per annum   \n",
       "2         Apartment      4-5 Members                          NaN   \n",
       "3   Gated Community      4-5 Members  More than 10 lakh per annum   \n",
       "4         Apartment      2-3 Members  More than 10 lakh per annum   \n",
       "\n",
       "  Approximate Weight of waste  generated per Day  \\\n",
       "0                                         1-2 Kg   \n",
       "1                                 Less than 1 kg   \n",
       "2                                 Less than 1 kg   \n",
       "3                                         1-2 Kg   \n",
       "4                                 Less than 1 kg   \n",
       "\n",
       "  Type of Solid waste( Select as many as possible) Frequency of Disposal  \\\n",
       "0                                    Kitchen waste                 Daily   \n",
       "1                                    Kitchen waste                 Daily   \n",
       "2                                    Kitchen waste                 Daily   \n",
       "3                                    Kitchen waste         Alternate day   \n",
       "4                                    Kitchen waste                 Daily   \n",
       "\n",
       "            Mode of Disposal Number of Bins in the Vicinity  \n",
       "0    Door to door collection                              1  \n",
       "1  Mobile Collection Vehicle                              1  \n",
       "2           Nearby dump yard                              2  \n",
       "3  Mobile Collection Vehicle                    More than 2  \n",
       "4    Door to door collection                              1  "
      ]
     },
     "execution_count": 8,
     "metadata": {},
     "output_type": "execute_result"
    }
   ],
   "source": [
    "df.head()"
   ]
  },
  {
   "cell_type": "markdown",
   "id": "cac49c4e",
   "metadata": {},
   "source": [
    "## Data Processing"
   ]
  },
  {
   "cell_type": "code",
   "execution_count": 9,
   "id": "a628ba65",
   "metadata": {
    "scrolled": true
   },
   "outputs": [
    {
     "data": {
      "text/plain": [
       "Type of Residence                                   0.000000\n",
       "Number of people                                    0.000000\n",
       "Annual Income                                       3.055556\n",
       "Approximate Weight of waste  generated per Day      0.000000\n",
       "Type of Solid waste( Select as many as possible)    0.000000\n",
       "Frequency of Disposal                               0.000000\n",
       "Mode of Disposal                                    0.000000\n",
       "Number of Bins in the Vicinity                      0.000000\n",
       "dtype: float64"
      ]
     },
     "execution_count": 9,
     "metadata": {},
     "output_type": "execute_result"
    }
   ],
   "source": [
    "per_null=(df.isna().sum()/df.shape[0])*100\n",
    "per_null"
   ]
  },
  {
   "cell_type": "code",
   "execution_count": 10,
   "id": "a6383a07",
   "metadata": {},
   "outputs": [],
   "source": [
    "from sklearn.impute import SimpleImputer\n",
    "imp = SimpleImputer(missing_values=np.nan, strategy='most_frequent')\n",
    "df['Annual Income']=imp.fit_transform(df[['Annual Income']])"
   ]
  },
  {
   "cell_type": "code",
   "execution_count": 11,
   "id": "629183c7",
   "metadata": {
    "scrolled": true
   },
   "outputs": [
    {
     "data": {
      "text/plain": [
       "Type of Residence                                   0.0\n",
       "Number of people                                    0.0\n",
       "Annual Income                                       0.0\n",
       "Approximate Weight of waste  generated per Day      0.0\n",
       "Type of Solid waste( Select as many as possible)    0.0\n",
       "Frequency of Disposal                               0.0\n",
       "Mode of Disposal                                    0.0\n",
       "Number of Bins in the Vicinity                      0.0\n",
       "dtype: float64"
      ]
     },
     "execution_count": 11,
     "metadata": {},
     "output_type": "execute_result"
    }
   ],
   "source": [
    "per_null=(df.isna().sum()/df.shape[0])*100\n",
    "per_null"
   ]
  },
  {
   "cell_type": "code",
   "execution_count": 12,
   "id": "3ab80a12",
   "metadata": {
    "scrolled": true
   },
   "outputs": [
    {
     "data": {
      "text/plain": [
       "Index(['Type of Residence', 'Number of people', 'Annual Income',\n",
       "       'Approximate Weight of waste  generated per Day',\n",
       "       'Type of Solid waste( Select as many as possible)',\n",
       "       'Frequency of Disposal', 'Mode of Disposal',\n",
       "       'Number of Bins in the Vicinity'],\n",
       "      dtype='object')"
      ]
     },
     "execution_count": 12,
     "metadata": {},
     "output_type": "execute_result"
    }
   ],
   "source": [
    "columns=df.columns\n",
    "columns"
   ]
  },
  {
   "cell_type": "code",
   "execution_count": 13,
   "id": "cd807ff6",
   "metadata": {
    "scrolled": true
   },
   "outputs": [
    {
     "data": {
      "text/plain": [
       "['Type of Residence',\n",
       " 'Number of people',\n",
       " 'Annual Income',\n",
       " 'Approximate Weight of waste  generated per Day',\n",
       " 'Type of Solid waste( Select as many as possible)',\n",
       " 'Frequency of Disposal',\n",
       " 'Mode of Disposal',\n",
       " 'Number of Bins in the Vicinity']"
      ]
     },
     "execution_count": 13,
     "metadata": {},
     "output_type": "execute_result"
    }
   ],
   "source": [
    "not_numeric=[]\n",
    "for label,content in df.items():\n",
    "    if not pd.api.types.is_numeric_dtype(content):\n",
    "        not_numeric.append(label)\n",
    "not_numeric"
   ]
  },
  {
   "cell_type": "code",
   "execution_count": 14,
   "id": "cf1305e6",
   "metadata": {
    "scrolled": false
   },
   "outputs": [
    {
     "name": "stdout",
     "output_type": "stream",
     "text": [
      "\u001b[1mType of Residence \n",
      "--------------------\u001b[0m\n",
      "\u001b[1m Unique :4\n",
      "--------------------\u001b[0m\n",
      "--------------------\n",
      "Independent house             126\n",
      "Apartment                     118\n",
      "Small Community(2-3 Story)     83\n",
      "Gated Community                33\n",
      "Name: Type of Residence, dtype: int64 \n",
      "\n",
      "\u001b[1mNumber of people \n",
      "--------------------\u001b[0m\n",
      "\u001b[1m Unique :4\n",
      "--------------------\u001b[0m\n",
      "--------------------\n",
      "4-5 Members    192\n",
      "2-3 Members     92\n",
      "More than 5     43\n",
      "Single          33\n",
      "Name: Number of people, dtype: int64 \n",
      "\n",
      "\u001b[1mAnnual Income \n",
      "--------------------\u001b[0m\n",
      "\u001b[1m Unique :4\n",
      "--------------------\u001b[0m\n",
      "--------------------\n",
      "Less than 5 lakh per annum     129\n",
      "7-10 lakh per annum             89\n",
      "5-7 lakh per annum              85\n",
      "More than 10 lakh per annum     57\n",
      "Name: Annual Income, dtype: int64 \n",
      "\n",
      "\u001b[1mApproximate Weight of waste  generated per Day \n",
      "--------------------\u001b[0m\n",
      "\u001b[1m Unique :4\n",
      "--------------------\u001b[0m\n",
      "--------------------\n",
      "1-2 Kg            103\n",
      "Less than 1 kg     94\n",
      "2-4 Kg             94\n",
      "4-6 kg             69\n",
      "Name: Approximate Weight of waste  generated per Day, dtype: int64 \n",
      "\n",
      "\u001b[1mType of Solid waste( Select as many as possible) \n",
      "--------------------\u001b[0m\n",
      "\u001b[1m Unique :21\n",
      "--------------------\u001b[0m\n",
      "--------------------\n",
      "Kitchen waste;Paper & cardboard;Plastic                       102\n",
      "Kitchen waste;Paper & cardboard;Plastic;Tins & Glass           73\n",
      "Kitchen waste                                                  55\n",
      "Kitchen waste;Paper & cardboard;Plastic;Tins & Glass;Other     23\n",
      "Paper & cardboard;Plastic;Tins & Glass                         19\n",
      "Kitchen waste;Plastic                                          17\n",
      "Kitchen waste;Paper & cardboard                                17\n",
      "Kitchen waste;Other                                             9\n",
      "Kitchen waste;Paper & cardboard;Tins & Glass                    9\n",
      "Kitchen waste;Paper & cardboard;Plastic;Other                   7\n",
      "Kitchen waste;Plastic;Other                                     6\n",
      "Kitchen waste;Plastic;Tins & Glass                              4\n",
      "Plastic;Tins & Glass                                            4\n",
      "Paper & cardboard                                               4\n",
      "Plastic                                                         3\n",
      "Other                                                           3\n",
      "Plastic;Other                                                   1\n",
      "Kitchen waste;Paper & cardboard;Tins & Glass;Other              1\n",
      "Paper & cardboard;Tins & Glass                                  1\n",
      "Paper & cardboard;Plastic                                       1\n",
      "Kitchen waste;Tins & Glass                                      1\n",
      "Name: Type of Solid waste( Select as many as possible), dtype: int64 \n",
      "\n",
      "\u001b[1mFrequency of Disposal \n",
      "--------------------\u001b[0m\n",
      "\u001b[1m Unique :4\n",
      "--------------------\u001b[0m\n",
      "--------------------\n",
      "Daily             162\n",
      "Alternate day     139\n",
      "Twice a Week       45\n",
      "Once in a week     14\n",
      "Name: Frequency of Disposal, dtype: int64 \n",
      "\n",
      "\u001b[1mMode of Disposal \n",
      "--------------------\u001b[0m\n",
      "\u001b[1m Unique :4\n",
      "--------------------\u001b[0m\n",
      "--------------------\n",
      "Door to door collection      160\n",
      "Mobile Collection Vehicle     88\n",
      "Nearby dump yard              75\n",
      "Open area dumping             37\n",
      "Name: Mode of Disposal, dtype: int64 \n",
      "\n",
      "\u001b[1mNumber of Bins in the Vicinity \n",
      "--------------------\u001b[0m\n",
      "\u001b[1m Unique :4\n",
      "--------------------\u001b[0m\n",
      "--------------------\n",
      "2              115\n",
      "1               96\n",
      "0               77\n",
      "More than 2     72\n",
      "Name: Number of Bins in the Vicinity, dtype: int64 \n",
      "\n"
     ]
    }
   ],
   "source": [
    "\n",
    "for col in not_numeric:\n",
    "    print(f\"\\033[1m{col} \\n{20 * '-'}\\033[0m\")\n",
    "    print(f\"\\033[1m Unique :{df[col].nunique()}\\n{20 * '-'}\\033[0m\")\n",
    "    print(f\"{20 * '-'}\")\n",
    "    print(df[col].value_counts(), '\\n')"
   ]
  },
  {
   "cell_type": "code",
   "execution_count": 15,
   "id": "4c3b94de",
   "metadata": {},
   "outputs": [],
   "source": [
    "df.drop('Type of Solid waste( Select as many as possible)',axis=1,inplace=True)"
   ]
  },
  {
   "cell_type": "markdown",
   "id": "a405401b",
   "metadata": {},
   "source": [
    "## Encoding"
   ]
  },
  {
   "cell_type": "code",
   "execution_count": 16,
   "id": "3317d340",
   "metadata": {},
   "outputs": [
    {
     "name": "stdout",
     "output_type": "stream",
     "text": [
      "<class 'pandas.core.frame.DataFrame'>\n",
      "RangeIndex: 360 entries, 0 to 359\n",
      "Data columns (total 7 columns):\n",
      " #   Column                                          Non-Null Count  Dtype \n",
      "---  ------                                          --------------  ----- \n",
      " 0   Type of Residence                               360 non-null    object\n",
      " 1   Number of people                                360 non-null    object\n",
      " 2   Annual Income                                   360 non-null    object\n",
      " 3   Approximate Weight of waste  generated per Day  360 non-null    object\n",
      " 4   Frequency of Disposal                           360 non-null    object\n",
      " 5   Mode of Disposal                                360 non-null    object\n",
      " 6   Number of Bins in the Vicinity                  360 non-null    object\n",
      "dtypes: object(7)\n",
      "memory usage: 19.8+ KB\n"
     ]
    }
   ],
   "source": [
    "df.info()"
   ]
  },
  {
   "cell_type": "code",
   "execution_count": 17,
   "id": "f57432d8",
   "metadata": {},
   "outputs": [],
   "source": [
    "df=pd.get_dummies(df,columns =['Type of Residence','Mode of Disposal','Frequency of Disposal'])"
   ]
  },
  {
   "cell_type": "code",
   "execution_count": 18,
   "id": "de29d56f",
   "metadata": {},
   "outputs": [
    {
     "data": {
      "text/plain": [
       "array(['2-3 Members', '4-5 Members', 'More than 5', 'Single'],\n",
       "      dtype=object)"
      ]
     },
     "execution_count": 18,
     "metadata": {},
     "output_type": "execute_result"
    }
   ],
   "source": [
    "df['Number of people'].unique()"
   ]
  },
  {
   "cell_type": "code",
   "execution_count": 19,
   "id": "a6ed80b2",
   "metadata": {},
   "outputs": [],
   "source": [
    "df['Number of people']=df['Number of people'].map({'2-3 Members':1, '4-5 Members':2, 'More than 5':3, 'Single':0})"
   ]
  },
  {
   "cell_type": "code",
   "execution_count": 20,
   "id": "4aef3f2a",
   "metadata": {},
   "outputs": [
    {
     "data": {
      "text/plain": [
       "array(['Less than 5 lakh per annum', '5-7 lakh per annum',\n",
       "       'More than 10 lakh per annum', '7-10 lakh per annum'], dtype=object)"
      ]
     },
     "execution_count": 20,
     "metadata": {},
     "output_type": "execute_result"
    }
   ],
   "source": [
    "df['Annual Income'].unique()"
   ]
  },
  {
   "cell_type": "code",
   "execution_count": 21,
   "id": "a1c304d7",
   "metadata": {},
   "outputs": [],
   "source": [
    "df['Annual Income']=df['Annual Income'].map({'Less than 5 lakh per annum':0, '5-7 lakh per annum':1,\n",
    "                                             'More than 10 lakh per annum':3, '7-10 lakh per annum':2})"
   ]
  },
  {
   "cell_type": "code",
   "execution_count": 22,
   "id": "4259d45e",
   "metadata": {},
   "outputs": [
    {
     "data": {
      "text/plain": [
       "array(['1-2 Kg', 'Less than 1 kg', '2-4 Kg', '4-6 kg'], dtype=object)"
      ]
     },
     "execution_count": 22,
     "metadata": {},
     "output_type": "execute_result"
    }
   ],
   "source": [
    "df['Approximate Weight of waste  generated per Day'].unique()"
   ]
  },
  {
   "cell_type": "code",
   "execution_count": 23,
   "id": "5e559334",
   "metadata": {},
   "outputs": [],
   "source": [
    "df['Approximate Weight of waste  generated per Day']=df['Approximate Weight of waste  generated per Day'].map(\n",
    "    {'1-2 Kg':1, 'Less than 1 kg':0, '2-4 Kg':2, '4-6 kg':3})"
   ]
  },
  {
   "cell_type": "code",
   "execution_count": 24,
   "id": "0a39d102",
   "metadata": {},
   "outputs": [
    {
     "data": {
      "text/plain": [
       "array(['1', '2', 'More than 2', '0'], dtype=object)"
      ]
     },
     "execution_count": 24,
     "metadata": {},
     "output_type": "execute_result"
    }
   ],
   "source": [
    "df['Number of Bins in the Vicinity'].unique()"
   ]
  },
  {
   "cell_type": "code",
   "execution_count": 25,
   "id": "d0c56ee8",
   "metadata": {},
   "outputs": [],
   "source": [
    "df['Number of Bins in the Vicinity']=df['Number of Bins in the Vicinity'].map(\n",
    "    {'1':1, '2':2, 'More than 2':3, '0':0})"
   ]
  },
  {
   "cell_type": "code",
   "execution_count": 26,
   "id": "a9788115",
   "metadata": {},
   "outputs": [],
   "source": [
    "#df['Do you Recommend separation of waste like Dry waste & Wet waste?'].unique()"
   ]
  },
  {
   "cell_type": "code",
   "execution_count": 27,
   "id": "9d00f966",
   "metadata": {},
   "outputs": [],
   "source": [
    "#df['Do you Recommend separation of waste like Dry waste & Wet waste?']=df['Do you Recommend separation of waste like Dry waste & Wet waste?'].map(\n",
    "    #{'Yes':1, 'No':0})"
   ]
  },
  {
   "cell_type": "code",
   "execution_count": 28,
   "id": "e287ed26",
   "metadata": {},
   "outputs": [],
   "source": [
    "#df['Are you aware of Recycling of Solid waste?'].unique()"
   ]
  },
  {
   "cell_type": "code",
   "execution_count": 29,
   "id": "a80b4732",
   "metadata": {},
   "outputs": [],
   "source": [
    "#df['Are you aware of Recycling of Solid waste?']=df['Are you aware of Recycling of Solid waste?'].map(\n",
    " #   {'Yes':1, 'No':0})"
   ]
  },
  {
   "cell_type": "code",
   "execution_count": 30,
   "id": "dd9fcb19",
   "metadata": {},
   "outputs": [
    {
     "name": "stdout",
     "output_type": "stream",
     "text": [
      "<class 'pandas.core.frame.DataFrame'>\n",
      "RangeIndex: 360 entries, 0 to 359\n",
      "Data columns (total 16 columns):\n",
      " #   Column                                          Non-Null Count  Dtype\n",
      "---  ------                                          --------------  -----\n",
      " 0   Number of people                                360 non-null    int64\n",
      " 1   Annual Income                                   360 non-null    int64\n",
      " 2   Approximate Weight of waste  generated per Day  360 non-null    int64\n",
      " 3   Number of Bins in the Vicinity                  360 non-null    int64\n",
      " 4   Type of Residence_Apartment                     360 non-null    uint8\n",
      " 5   Type of Residence_Gated Community               360 non-null    uint8\n",
      " 6   Type of Residence_Independent house             360 non-null    uint8\n",
      " 7   Type of Residence_Small Community(2-3 Story)    360 non-null    uint8\n",
      " 8   Mode of Disposal_Door to door collection        360 non-null    uint8\n",
      " 9   Mode of Disposal_Mobile Collection Vehicle      360 non-null    uint8\n",
      " 10  Mode of Disposal_Nearby dump yard               360 non-null    uint8\n",
      " 11  Mode of Disposal_Open area dumping              360 non-null    uint8\n",
      " 12  Frequency of Disposal_Alternate day             360 non-null    uint8\n",
      " 13  Frequency of Disposal_Daily                     360 non-null    uint8\n",
      " 14  Frequency of Disposal_Once in a week            360 non-null    uint8\n",
      " 15  Frequency of Disposal_Twice a Week              360 non-null    uint8\n",
      "dtypes: int64(4), uint8(12)\n",
      "memory usage: 15.6 KB\n"
     ]
    }
   ],
   "source": [
    "df.info()"
   ]
  },
  {
   "cell_type": "code",
   "execution_count": 31,
   "id": "f89934aa",
   "metadata": {},
   "outputs": [
    {
     "data": {
      "text/html": [
       "<div>\n",
       "<style scoped>\n",
       "    .dataframe tbody tr th:only-of-type {\n",
       "        vertical-align: middle;\n",
       "    }\n",
       "\n",
       "    .dataframe tbody tr th {\n",
       "        vertical-align: top;\n",
       "    }\n",
       "\n",
       "    .dataframe thead th {\n",
       "        text-align: right;\n",
       "    }\n",
       "</style>\n",
       "<table border=\"1\" class=\"dataframe\">\n",
       "  <thead>\n",
       "    <tr style=\"text-align: right;\">\n",
       "      <th></th>\n",
       "      <th>Number of people</th>\n",
       "      <th>Annual Income</th>\n",
       "      <th>Approximate Weight of waste  generated per Day</th>\n",
       "      <th>Number of Bins in the Vicinity</th>\n",
       "      <th>Type of Residence_Apartment</th>\n",
       "      <th>Type of Residence_Gated Community</th>\n",
       "      <th>Type of Residence_Independent house</th>\n",
       "      <th>Type of Residence_Small Community(2-3 Story)</th>\n",
       "      <th>Mode of Disposal_Door to door collection</th>\n",
       "      <th>Mode of Disposal_Mobile Collection Vehicle</th>\n",
       "      <th>Mode of Disposal_Nearby dump yard</th>\n",
       "      <th>Mode of Disposal_Open area dumping</th>\n",
       "      <th>Frequency of Disposal_Alternate day</th>\n",
       "      <th>Frequency of Disposal_Daily</th>\n",
       "      <th>Frequency of Disposal_Once in a week</th>\n",
       "      <th>Frequency of Disposal_Twice a Week</th>\n",
       "    </tr>\n",
       "  </thead>\n",
       "  <tbody>\n",
       "    <tr>\n",
       "      <th>0</th>\n",
       "      <td>1</td>\n",
       "      <td>0</td>\n",
       "      <td>1</td>\n",
       "      <td>1</td>\n",
       "      <td>1</td>\n",
       "      <td>0</td>\n",
       "      <td>0</td>\n",
       "      <td>0</td>\n",
       "      <td>1</td>\n",
       "      <td>0</td>\n",
       "      <td>0</td>\n",
       "      <td>0</td>\n",
       "      <td>0</td>\n",
       "      <td>1</td>\n",
       "      <td>0</td>\n",
       "      <td>0</td>\n",
       "    </tr>\n",
       "    <tr>\n",
       "      <th>1</th>\n",
       "      <td>2</td>\n",
       "      <td>1</td>\n",
       "      <td>0</td>\n",
       "      <td>1</td>\n",
       "      <td>1</td>\n",
       "      <td>0</td>\n",
       "      <td>0</td>\n",
       "      <td>0</td>\n",
       "      <td>0</td>\n",
       "      <td>1</td>\n",
       "      <td>0</td>\n",
       "      <td>0</td>\n",
       "      <td>0</td>\n",
       "      <td>1</td>\n",
       "      <td>0</td>\n",
       "      <td>0</td>\n",
       "    </tr>\n",
       "    <tr>\n",
       "      <th>2</th>\n",
       "      <td>2</td>\n",
       "      <td>0</td>\n",
       "      <td>0</td>\n",
       "      <td>2</td>\n",
       "      <td>1</td>\n",
       "      <td>0</td>\n",
       "      <td>0</td>\n",
       "      <td>0</td>\n",
       "      <td>0</td>\n",
       "      <td>0</td>\n",
       "      <td>1</td>\n",
       "      <td>0</td>\n",
       "      <td>0</td>\n",
       "      <td>1</td>\n",
       "      <td>0</td>\n",
       "      <td>0</td>\n",
       "    </tr>\n",
       "    <tr>\n",
       "      <th>3</th>\n",
       "      <td>2</td>\n",
       "      <td>3</td>\n",
       "      <td>1</td>\n",
       "      <td>3</td>\n",
       "      <td>0</td>\n",
       "      <td>1</td>\n",
       "      <td>0</td>\n",
       "      <td>0</td>\n",
       "      <td>0</td>\n",
       "      <td>1</td>\n",
       "      <td>0</td>\n",
       "      <td>0</td>\n",
       "      <td>1</td>\n",
       "      <td>0</td>\n",
       "      <td>0</td>\n",
       "      <td>0</td>\n",
       "    </tr>\n",
       "    <tr>\n",
       "      <th>4</th>\n",
       "      <td>1</td>\n",
       "      <td>3</td>\n",
       "      <td>0</td>\n",
       "      <td>1</td>\n",
       "      <td>1</td>\n",
       "      <td>0</td>\n",
       "      <td>0</td>\n",
       "      <td>0</td>\n",
       "      <td>1</td>\n",
       "      <td>0</td>\n",
       "      <td>0</td>\n",
       "      <td>0</td>\n",
       "      <td>0</td>\n",
       "      <td>1</td>\n",
       "      <td>0</td>\n",
       "      <td>0</td>\n",
       "    </tr>\n",
       "  </tbody>\n",
       "</table>\n",
       "</div>"
      ],
      "text/plain": [
       "   Number of people  Annual Income  \\\n",
       "0                 1              0   \n",
       "1                 2              1   \n",
       "2                 2              0   \n",
       "3                 2              3   \n",
       "4                 1              3   \n",
       "\n",
       "   Approximate Weight of waste  generated per Day  \\\n",
       "0                                               1   \n",
       "1                                               0   \n",
       "2                                               0   \n",
       "3                                               1   \n",
       "4                                               0   \n",
       "\n",
       "   Number of Bins in the Vicinity  Type of Residence_Apartment  \\\n",
       "0                               1                            1   \n",
       "1                               1                            1   \n",
       "2                               2                            1   \n",
       "3                               3                            0   \n",
       "4                               1                            1   \n",
       "\n",
       "   Type of Residence_Gated Community  Type of Residence_Independent house  \\\n",
       "0                                  0                                    0   \n",
       "1                                  0                                    0   \n",
       "2                                  0                                    0   \n",
       "3                                  1                                    0   \n",
       "4                                  0                                    0   \n",
       "\n",
       "   Type of Residence_Small Community(2-3 Story)  \\\n",
       "0                                             0   \n",
       "1                                             0   \n",
       "2                                             0   \n",
       "3                                             0   \n",
       "4                                             0   \n",
       "\n",
       "   Mode of Disposal_Door to door collection  \\\n",
       "0                                         1   \n",
       "1                                         0   \n",
       "2                                         0   \n",
       "3                                         0   \n",
       "4                                         1   \n",
       "\n",
       "   Mode of Disposal_Mobile Collection Vehicle  \\\n",
       "0                                           0   \n",
       "1                                           1   \n",
       "2                                           0   \n",
       "3                                           1   \n",
       "4                                           0   \n",
       "\n",
       "   Mode of Disposal_Nearby dump yard  Mode of Disposal_Open area dumping  \\\n",
       "0                                  0                                   0   \n",
       "1                                  0                                   0   \n",
       "2                                  1                                   0   \n",
       "3                                  0                                   0   \n",
       "4                                  0                                   0   \n",
       "\n",
       "   Frequency of Disposal_Alternate day  Frequency of Disposal_Daily  \\\n",
       "0                                    0                            1   \n",
       "1                                    0                            1   \n",
       "2                                    0                            1   \n",
       "3                                    1                            0   \n",
       "4                                    0                            1   \n",
       "\n",
       "   Frequency of Disposal_Once in a week  Frequency of Disposal_Twice a Week  \n",
       "0                                     0                                   0  \n",
       "1                                     0                                   0  \n",
       "2                                     0                                   0  \n",
       "3                                     0                                   0  \n",
       "4                                     0                                   0  "
      ]
     },
     "execution_count": 31,
     "metadata": {},
     "output_type": "execute_result"
    }
   ],
   "source": [
    "df.head()"
   ]
  },
  {
   "cell_type": "markdown",
   "id": "c44676ad",
   "metadata": {},
   "source": [
    "## EDA"
   ]
  },
  {
   "cell_type": "code",
   "execution_count": 32,
   "id": "55cdddb6",
   "metadata": {},
   "outputs": [],
   "source": [
    "df_raw=df_raw.drop(['Timestamp','Username','Highest Qualification','Occupation','Locality'],axis=1)"
   ]
  },
  {
   "cell_type": "code",
   "execution_count": 33,
   "id": "57902f03",
   "metadata": {},
   "outputs": [
    {
     "data": {
      "text/plain": [
       "['Type of Residence',\n",
       " 'Number of people',\n",
       " 'Annual Income',\n",
       " 'Approximate Weight of waste  generated per Day',\n",
       " 'Type of Solid waste( Select as many as possible)',\n",
       " 'Frequency of Disposal',\n",
       " 'Mode of Disposal',\n",
       " 'Number of Bins in the Vicinity']"
      ]
     },
     "execution_count": 33,
     "metadata": {},
     "output_type": "execute_result"
    }
   ],
   "source": [
    "not_numeric_new=[]\n",
    "for label,content in df_raw.items():\n",
    "    if not pd.api.types.is_numeric_dtype(content):\n",
    "        not_numeric_new.append(label)\n",
    "not_numeric_new"
   ]
  },
  {
   "cell_type": "code",
   "execution_count": 34,
   "id": "f204feb3",
   "metadata": {},
   "outputs": [],
   "source": [
    "nonnumericdf=df_raw[not_numeric_new]"
   ]
  },
  {
   "cell_type": "code",
   "execution_count": 35,
   "id": "124e51fd",
   "metadata": {
    "scrolled": false
   },
   "outputs": [
    {
     "data": {
      "image/png": "[encoded data removed]",
      "text/plain": [
       "<Figure size 576x288 with 1 Axes>"
      ]
     },
     "metadata": {
      "needs_background": "light"
     },
     "output_type": "display_data"
    },
    {
     "data": {
      "image/png": "[encoded data removed]",
      "text/plain": [
       "<Figure size 576x288 with 1 Axes>"
      ]
     },
     "metadata": {
      "needs_background": "light"
     },
     "output_type": "display_data"
    },
    {
     "data": {
      "image/png": "[encoded data removed]",
      "text/plain": [
       "<Figure size 576x288 with 1 Axes>"
      ]
     },
     "metadata": {
      "needs_background": "light"
     },
     "output_type": "display_data"
    },
    {
     "data": {
      "image/png": "[encoded data removed]",
      "text/plain": [
       "<Figure size 576x288 with 1 Axes>"
      ]
     },
     "metadata": {
      "needs_background": "light"
     },
     "output_type": "display_data"
    },
    {
     "data": {
      "image/png": "[encoded data removed]",
      "text/plain": [
       "<Figure size 576x288 with 1 Axes>"
      ]
     },
     "metadata": {
      "needs_background": "light"
     },
     "output_type": "display_data"
    },
    {
     "data": {
      "image/png": "[encoded data removed]",
      "text/plain": [
       "<Figure size 576x288 with 1 Axes>"
      ]
     },
     "metadata": {
      "needs_background": "light"
     },
     "output_type": "display_data"
    },
    {
     "data": {
      "image/png": "[encoded data removed]",
      "text/plain": [
       "<Figure size 576x288 with 1 Axes>"
      ]
     },
     "metadata": {
      "needs_background": "light"
     },
     "output_type": "display_data"
    },
    {
     "data": {
      "image/png": "[encoded data removed]",
      "text/plain": [
       "<Figure size 576x288 with 1 Axes>"
      ]
     },
     "metadata": {
      "needs_background": "light"
     },
     "output_type": "display_data"
    }
   ],
   "source": [
    "for col in not_numeric_new:\n",
    "    plt.figure(figsize=(8,4))\n",
    "    sns.countplot(x=nonnumericdf[col], data=nonnumericdf)\n",
    "    plt.title(col)\n",
    "    plt.xticks(rotation=45)\n",
    "    plt.show()"
   ]
  },
  {
   "cell_type": "markdown",
   "id": "934acde5",
   "metadata": {},
   "source": [
    "## Split Data"
   ]
  },
  {
   "cell_type": "code",
   "execution_count": 36,
   "id": "6dceb193",
   "metadata": {},
   "outputs": [],
   "source": [
    "X=df.drop('Approximate Weight of waste  generated per Day',axis=1)\n",
    "y=df['Approximate Weight of waste  generated per Day']"
   ]
  },
  {
   "cell_type": "code",
   "execution_count": 37,
   "id": "5aaf4d0d",
   "metadata": {},
   "outputs": [
    {
     "data": {
      "text/plain": [
       "(360, 15)"
      ]
     },
     "execution_count": 37,
     "metadata": {},
     "output_type": "execute_result"
    }
   ],
   "source": [
    "X.shape"
   ]
  },
  {
   "cell_type": "code",
   "execution_count": 38,
   "id": "46248643",
   "metadata": {},
   "outputs": [
    {
     "data": {
      "text/plain": [
       "(360,)"
      ]
     },
     "execution_count": 38,
     "metadata": {},
     "output_type": "execute_result"
    }
   ],
   "source": [
    "y.shape"
   ]
  },
  {
   "cell_type": "code",
   "execution_count": 39,
   "id": "ae44f913",
   "metadata": {},
   "outputs": [],
   "source": [
    "from sklearn.model_selection import train_test_split\n",
    "X_train, X_test, y_train, y_test = train_test_split(X, y, test_size=0.33, random_state=42)"
   ]
  },
  {
   "cell_type": "code",
   "execution_count": 40,
   "id": "41cf6bb5",
   "metadata": {},
   "outputs": [
    {
     "data": {
      "text/plain": [
       "Index(['Number of people', 'Annual Income', 'Number of Bins in the Vicinity',\n",
       "       'Type of Residence_Apartment', 'Type of Residence_Gated Community',\n",
       "       'Type of Residence_Independent house',\n",
       "       'Type of Residence_Small Community(2-3 Story)',\n",
       "       'Mode of Disposal_Door to door collection',\n",
       "       'Mode of Disposal_Mobile Collection Vehicle',\n",
       "       'Mode of Disposal_Nearby dump yard',\n",
       "       'Mode of Disposal_Open area dumping',\n",
       "       'Frequency of Disposal_Alternate day', 'Frequency of Disposal_Daily',\n",
       "       'Frequency of Disposal_Once in a week',\n",
       "       'Frequency of Disposal_Twice a Week'],\n",
       "      dtype='object')"
      ]
     },
     "execution_count": 40,
     "metadata": {},
     "output_type": "execute_result"
    }
   ],
   "source": [
    "X_train.columns"
   ]
  },
  {
   "cell_type": "code",
   "execution_count": 41,
   "id": "696e5419",
   "metadata": {},
   "outputs": [],
   "source": [
    "X_train.to_pickle(\"./X_train.pkl\")\n",
    "X_test.to_pickle(\"./X_test.pkl\")\n",
    "y_train.to_pickle(\"./y_train.pkl\")\n",
    "y_test.to_pickle(\"./y_test.pkl\")\n",
    "\n",
    "X.to_pickle(\"./X.pkl\")\n",
    "y.to_pickle(\"./y.pkl\")"
   ]
  },
  {
   "cell_type": "code",
   "execution_count": 42,
   "id": "47af80d4",
   "metadata": {},
   "outputs": [
    {
     "data": {
      "text/plain": [
       "278    1\n",
       "118    1\n",
       "31     1\n",
       "36     1\n",
       "153    3\n",
       "      ..\n",
       "71     1\n",
       "106    1\n",
       "270    1\n",
       "348    2\n",
       "102    0\n",
       "Name: Approximate Weight of waste  generated per Day, Length: 241, dtype: int64"
      ]
     },
     "execution_count": 42,
     "metadata": {},
     "output_type": "execute_result"
    }
   ],
   "source": [
    "y_train"
   ]
  }
 ],
 "metadata": {
  "kernelspec": {
   "display_name": "Python 3 (ipykernel)",
   "language": "python",
   "name": "python3"
  },
  "language_info": {
   "codemirror_mode": {
    "name": "ipython",
    "version": 3
   },
   "file_extension": ".py",
   "mimetype": "text/x-python",
   "name": "python",
   "nbconvert_exporter": "python",
   "pygments_lexer": "ipython3",
   "version": "3.9.12"
  }
 },
 "nbformat": 4,
 "nbformat_minor": 5
}
